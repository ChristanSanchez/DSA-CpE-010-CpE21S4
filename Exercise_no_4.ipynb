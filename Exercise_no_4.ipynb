{
  "nbformat": 4,
  "nbformat_minor": 0,
  "metadata": {
    "colab": {
      "provenance": [],
      "authorship_tag": "ABX9TyNmALLSzQvYJSy06gIC9k1B",
      "include_colab_link": true
    },
    "kernelspec": {
      "name": "python3",
      "display_name": "Python 3"
    },
    "language_info": {
      "name": "python"
    }
  },
  "cells": [
    {
      "cell_type": "markdown",
      "metadata": {
        "id": "view-in-github",
        "colab_type": "text"
      },
      "source": [
        "<a href=\"https://colab.research.google.com/github/ChristanSanchez/DSA-CpE-010-CpE21S4/blob/main/Exercise_4.ipynb\" target=\"_parent\"><img src=\"https://colab.research.google.com/assets/colab-badge.svg\" alt=\"Open In Colab\"/></a>"
      ]
    },
    {
      "cell_type": "code",
      "execution_count": 9,
      "metadata": {
        "colab": {
          "base_uri": "https://localhost:8080/",
          "height": 35
        },
        "id": "07qn_29PAhDT",
        "outputId": "a15fca50-a920-45fe-9070-58195c0ccb95"
      },
      "outputs": [
        {
          "output_type": "execute_result",
          "data": {
            "text/plain": [
              "'f'"
            ],
            "application/vnd.google.colaboratory.intrinsic+json": {
              "type": "string"
            }
          },
          "metadata": {},
          "execution_count": 9
        }
      ],
      "source": [
        "import array\n",
        "\n",
        "array.typecodes\n",
        "\n",
        "a = array.array('i', [1,2,3,4,5,6])#initializaing array a\n",
        "\n",
        "b = array.array('f', [1.5,2.5,3.5,4.5,5.5,6.5])#initializaing array b # Changed typecode to 'f' for floats\n",
        "\n",
        "a.typecode#getting the typecode of a\n",
        "\n",
        "b.typecode#getting the typecode of a"
      ]
    },
    {
      "cell_type": "code",
      "source": [
        "from array import array # importing array from module\n",
        "a = array ('i', [4,5,6,7]) #initializing array\n",
        "a.insert(1,2) # inserting element: 2 at index: 1\n",
        "a #printing array a\n",
        "array('i',[4,2,5,6,7])\n",
        "a.insert(-1,0) #insert element: 0 at index: -1\n",
        "a\n",
        "a.insert(10,-1) #insert element: -1 at index: 10, this is out range\n",
        "a\n",
        "array('i', [4,2,5,6,0,7,-1])"
      ],
      "metadata": {
        "colab": {
          "base_uri": "https://localhost:8080/"
        },
        "id": "_lBtLGLYBMw3",
        "outputId": "c3058032-3df1-4ca4-990f-b5cafec6acc8"
      },
      "execution_count": 11,
      "outputs": [
        {
          "output_type": "execute_result",
          "data": {
            "text/plain": [
              "array('i', [4, 2, 5, 6, 0, 7, -1])"
            ]
          },
          "metadata": {},
          "execution_count": 11
        }
      ]
    },
    {
      "cell_type": "code",
      "source": [
        "class Node:\n",
        "  def __init__(self, data):\n",
        "    self.data = data\n",
        "    self.next = None\n",
        "\n",
        "class LinkedList:\n",
        "  def __init__(self):\n",
        "    self.head = None\n",
        "\n",
        "  def printData(self): # Define printData as a method within the LinkedList class\n",
        "    temp = self.head\n",
        "    while(temp):\n",
        "      print(temp.data)\n",
        "      temp = temp.next # Correct the typographical error\n",
        "\n",
        "if __name__ == '__main__':\n",
        "  llist = LinkedList()\n",
        "  llist.head = Node(1)\n",
        "  second = Node(2)\n",
        "  third = Node(3)\n",
        "\n",
        "  llist.head.next = second\n",
        "  second.next = third\n",
        "\n",
        "  llist.printData() # Call the printData method on the llist object"
      ],
      "metadata": {
        "colab": {
          "base_uri": "https://localhost:8080/"
        },
        "id": "svlk_AJXDGpo",
        "outputId": "b88e7750-ccdd-442b-a85b-40bdcc539977"
      },
      "execution_count": 16,
      "outputs": [
        {
          "output_type": "stream",
          "name": "stdout",
          "text": [
            "1\n",
            "2\n",
            "3\n"
          ]
        }
      ]
    }
  ]
}
