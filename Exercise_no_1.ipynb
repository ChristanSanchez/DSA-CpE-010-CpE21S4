{
  "nbformat": 4,
  "nbformat_minor": 0,
  "metadata": {
    "colab": {
      "provenance": [],
      "toc_visible": true,
      "authorship_tag": "ABX9TyNu2tNOQP9+4c7/Qp+bL5zW",
      "include_colab_link": true
    },
    "kernelspec": {
      "name": "python3",
      "display_name": "Python 3"
    },
    "language_info": {
      "name": "python"
    }
  },
  "cells": [
    {
      "cell_type": "markdown",
      "metadata": {
        "id": "view-in-github",
        "colab_type": "text"
      },
      "source": [
        "<a href=\"https://colab.research.google.com/github/ChristanSanchez/DSA-CpE-010-CpE21S4/blob/main/Exercise_no_1.ipynb\" target=\"_parent\"><img src=\"https://colab.research.google.com/assets/colab-badge.svg\" alt=\"Open In Colab\"/></a>"
      ]
    },
    {
      "cell_type": "markdown",
      "source": [
        "# **Exercise no.1 (Class Constructor and Method)**"
      ],
      "metadata": {
        "id": "4oHaCHgAmlH3"
      }
    },
    {
      "cell_type": "markdown",
      "source": [
        "1. develop a python program that computes the area of a rectangle shape\n",
        "2. Use rectangle () as a class name\n",
        "3. use attributes length and width\n",
        "4. Calculate the Area () of the rectangle\n",
        "5. Display the computed area of a rectangle\n",
        "\n",
        "***NOTE: OOP concepts of computing the area of a rectangle.***"
      ],
      "metadata": {
        "id": "NRDL2AZInIam"
      }
    },
    {
      "cell_type": "code",
      "source": [
        "class rectangle():\n",
        "   def Area(Length,width):\n",
        "    rec_area = Length * width\n",
        "    return rec_area\n",
        "\n",
        "Length = float(input(\"Enter the length: \"))\n",
        "width = float(input(\"Enter the width: \"))\n",
        "\n",
        "print(\"The computed area of the rectangle is: \",rectangle.Area(Length,width))"
      ],
      "metadata": {
        "colab": {
          "base_uri": "https://localhost:8080/"
        },
        "id": "LV2_0TG-nqRv",
        "outputId": "664fec99-a14e-45e4-e2ca-55fec3025217"
      },
      "execution_count": 40,
      "outputs": [
        {
          "output_type": "stream",
          "name": "stdout",
          "text": [
            "Enter the length: 5\n",
            "Enter the width: 10\n",
            "The computed area of the rectangle is:  50.0\n"
          ]
        }
      ]
    }
  ]
}