{
  "nbformat": 4,
  "nbformat_minor": 0,
  "metadata": {
    "colab": {
      "provenance": [],
      "authorship_tag": "ABX9TyP1Y+GeZ1ylbAG1y6q5hnU5",
      "include_colab_link": true
    },
    "kernelspec": {
      "name": "python3",
      "display_name": "Python 3"
    },
    "language_info": {
      "name": "python"
    }
  },
  "cells": [
    {
      "cell_type": "markdown",
      "metadata": {
        "id": "view-in-github",
        "colab_type": "text"
      },
      "source": [
        "<a href=\"https://colab.research.google.com/github/ChristanSanchez/DSA-CpE-010-CpE21S4/blob/main/Exercise_no_2.ipynb\" target=\"_parent\"><img src=\"https://colab.research.google.com/assets/colab-badge.svg\" alt=\"Open In Colab\"/></a>"
      ]
    },
    {
      "cell_type": "code",
      "execution_count": 53,
      "metadata": {
        "colab": {
          "base_uri": "https://localhost:8080/"
        },
        "id": "KJQc-rH45O12",
        "outputId": "016c4558-6348-4051-a1ad-abfd584f2724"
      },
      "outputs": [
        {
          "output_type": "stream",
          "name": "stdout",
          "text": [
            "The Area of the Rectangle is : 10\n",
            "The Area of the Square is : 25\n",
            "The Area of the Triangle is : 15.0\n"
          ]
        }
      ],
      "source": [
        "class Shapes():\n",
        "\n",
        "  def __init__(self,length,width,side,base,height):\n",
        "    self.length = length\n",
        "    self.width = width\n",
        "    self.side = side\n",
        "    self.base = base\n",
        "    self.height = height\n",
        "\n",
        "  class Rectangle(Shapes):\n",
        "    def Area_Rectangle(self):\n",
        "      Area_rec = self.length * self.width\n",
        "      return Area_rec\n",
        "  class Square(Shapes):\n",
        "    def Area_Square(self):\n",
        "      Area_sq = self.side ** 2\n",
        "      return Area_sq\n",
        "  class Triangle(Shapes):\n",
        "    def Area_Triangle(self):\n",
        "      Area_tri = (self.base * self.height)/2\n",
        "      return Area_tri\n",
        "\n",
        "rectangle = Rectangle(2,5,0,0,0)\n",
        "print(\"The Area of the Rectangle is :\", rectangle.Area_Rectangle())\n",
        "\n",
        "square = Square(0,0,5,0,0)\n",
        "print(\"The Area of the Square is :\", square.Area_Square())\n",
        "\n",
        "triangle = Triangle(0,0,0,3,10)\n",
        "print(\"The Area of the Triangle is :\", triangle.Area_Triangle())\n",
        "\n"
      ]
    },
    {
      "cell_type": "code",
      "source": [],
      "metadata": {
        "id": "jo8YmCLEAYjR"
      },
      "execution_count": null,
      "outputs": []
    }
  ]
}